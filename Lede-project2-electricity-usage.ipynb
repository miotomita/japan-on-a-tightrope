{
 "cells": [
  {
   "cell_type": "code",
   "execution_count": 1,
   "id": "734f63ac",
   "metadata": {
    "scrolled": true
   },
   "outputs": [],
   "source": [
    "#!pip install altair_saver -t /Users/mio/venv310/lib/python3.10/site-packages\n",
    "#!pip install jpholiday"
   ]
  },
  {
   "cell_type": "code",
   "execution_count": 2,
   "id": "be56b123",
   "metadata": {
    "scrolled": true
   },
   "outputs": [],
   "source": [
    "#!npm install vega-lite vega-cli canvas"
   ]
  },
  {
   "cell_type": "code",
   "execution_count": 3,
   "id": "cc4158fa",
   "metadata": {},
   "outputs": [],
   "source": [
    "import pandas as pd\n",
    "import requests\n",
    "import json\n",
    "from datetime import datetime, date, timedelta\n",
    "from dateutil.relativedelta import relativedelta\n",
    "import time\n",
    "import calendar\n",
    "import numpy as np"
   ]
  },
  {
   "cell_type": "code",
   "execution_count": 4,
   "id": "fc40eb8e",
   "metadata": {},
   "outputs": [],
   "source": [
    "import jpholiday"
   ]
  },
  {
   "cell_type": "code",
   "execution_count": 5,
   "id": "328831b5",
   "metadata": {},
   "outputs": [
    {
     "data": {
      "text/plain": [
       "DataTransformerRegistry.enable('default')"
      ]
     },
     "execution_count": 5,
     "metadata": {},
     "output_type": "execute_result"
    }
   ],
   "source": [
    "import altair as alt\n",
    "from vega_datasets import data\n",
    "alt.data_transformers.disable_max_rows()"
   ]
  },
  {
   "cell_type": "code",
   "execution_count": 6,
   "id": "a6f1887b",
   "metadata": {},
   "outputs": [],
   "source": [
    "import matplotlib.pyplot as plt\n",
    "plt.style.use('fivethirtyeight')"
   ]
  },
  {
   "cell_type": "markdown",
   "id": "c43a1a19",
   "metadata": {},
   "source": [
    "<b>TEPCO Usage API</b><br>\n",
    "https://tepco-usage-api.appspot.com/"
   ]
  },
  {
   "cell_type": "code",
   "execution_count": 7,
   "id": "761f6069",
   "metadata": {},
   "outputs": [],
   "source": [
    "usage_df = pd.DataFrame()"
   ]
  },
  {
   "cell_type": "code",
   "execution_count": 8,
   "id": "e65cb575",
   "metadata": {},
   "outputs": [],
   "source": [
    "def get_usage_data(yyyymm):\n",
    "    url = f\"http://tepco-usage-api.appspot.com/{yyyymm}.json\"\n",
    "    r = requests.get(url)\n",
    "    data = r.json()\n",
    "    df = pd.concat([usage_df, pd.DataFrame(data)], ignore_index=True)\n",
    "    time.sleep(1)\n",
    "    return df"
   ]
  },
  {
   "cell_type": "code",
   "execution_count": 9,
   "id": "f5498339",
   "metadata": {},
   "outputs": [],
   "source": [
    "#period of time API\n",
    "months = pd.date_range(start='2011/3/1', end=date.today()+relativedelta(months=1), freq=\"M\").strftime('%Y/%m')"
   ]
  },
  {
   "cell_type": "code",
   "execution_count": null,
   "id": "93377db4",
   "metadata": {},
   "outputs": [],
   "source": [
    "#Just for 1st time\n",
    "for month in months:\n",
    "    usage_df = get_usage_data(month)\n",
    "\n",
    "usage_df.to_csv('electricity_usage.csv',index=False)"
   ]
  },
  {
   "cell_type": "code",
   "execution_count": null,
   "id": "5ca0742a",
   "metadata": {},
   "outputs": [],
   "source": [
    "#usage_df = pd.read_csv('electricity_usage.csv')"
   ]
  },
  {
   "cell_type": "code",
   "execution_count": null,
   "id": "330ef31f",
   "metadata": {},
   "outputs": [],
   "source": [
    "usage_df.dtypes"
   ]
  },
  {
   "cell_type": "code",
   "execution_count": null,
   "id": "beac3d5f",
   "metadata": {},
   "outputs": [],
   "source": [
    "#entryfor: UTC--->JST(+9)\n",
    "utc_columns = ['entryfor','capacity_updated','forecast_peak_updated','usage_updated']\n",
    "\n",
    "for column in utc_columns:\n",
    "    usage_df[column] = pd.to_datetime(usage_df[column]) + timedelta(hours=9)"
   ]
  },
  {
   "cell_type": "code",
   "execution_count": null,
   "id": "02f7331e",
   "metadata": {},
   "outputs": [],
   "source": [
    "usage_df.capacity.unique()"
   ]
  },
  {
   "cell_type": "code",
   "execution_count": null,
   "id": "6b1509cd",
   "metadata": {},
   "outputs": [],
   "source": [
    "usage_df['usage_pct'] = (usage_df.usage / usage_df.capacity * 100)"
   ]
  },
  {
   "cell_type": "code",
   "execution_count": null,
   "id": "4e6d470f",
   "metadata": {},
   "outputs": [],
   "source": [
    "usage_df['capacity_left'] = usage_df.capacity - usage_df.usage"
   ]
  },
  {
   "cell_type": "code",
   "execution_count": null,
   "id": "07dcd1de",
   "metadata": {},
   "outputs": [],
   "source": [
    "usage_df['month'] = usage_df.entryfor.dt.month\n",
    "usage_df['year'] = usage_df.entryfor.dt.strftime('%Y').astype(int)"
   ]
  },
  {
   "cell_type": "code",
   "execution_count": null,
   "id": "ad773b6f",
   "metadata": {},
   "outputs": [],
   "source": [
    "usage_df['over95pct'] = usage_df.usage_pct>=95"
   ]
  },
  {
   "cell_type": "code",
   "execution_count": null,
   "id": "e03a0de6",
   "metadata": {},
   "outputs": [],
   "source": [
    "usage_df['date2000'] = pd.to_datetime(usage_df[['year','month','day']]).apply(lambda x: x.replace(year=2020))"
   ]
  },
  {
   "cell_type": "code",
   "execution_count": null,
   "id": "2d2fbcdb",
   "metadata": {},
   "outputs": [],
   "source": [
    "#10:00AM - 18:00PM\n",
    "hours = np.arange(10,19)\n",
    "usage_daytime = usage_df[usage_df.hour.isin(hours)]"
   ]
  },
  {
   "cell_type": "code",
   "execution_count": null,
   "id": "7b3fb061",
   "metadata": {},
   "outputs": [],
   "source": [
    "#10:00AM - 18:00PM, only business days\n",
    "usage_bu = usage_daytime[~usage_daytime.entryfor.apply(lambda x: jpholiday.is_holiday(x.date()))]"
   ]
  },
  {
   "cell_type": "code",
   "execution_count": null,
   "id": "02545dc7",
   "metadata": {},
   "outputs": [],
   "source": [
    "#days count over 95%\n",
    "over95_count = usage_daytime.resample('D', on='entryfor').over95pct.sum()>=1\n",
    "over95_count.reset_index().resample('M',on='entryfor').over95pct.sum().plot()"
   ]
  },
  {
   "cell_type": "code",
   "execution_count": null,
   "id": "f82f1a24",
   "metadata": {},
   "outputs": [],
   "source": [
    "months =[6,7]\n",
    "\n",
    "source = usage_df.resample('D',on='entryfor')[['year','usage_pct']].max().reset_index()\n",
    "source = source[source.year>=2011]\n",
    "source = source[source.entryfor.dt.month.isin(months)]\n",
    "\n",
    "source['date_type'] = ''\n",
    "\n",
    "for month in months:\n",
    "    month_name = pd.to_datetime(month,format='%m').strftime('%B')\n",
    "    highest = source[source.entryfor.dt.month==month].groupby('year').usage_pct.max().to_dict()\n",
    "    source.loc[(source.entryfor.dt.month==month)&(source.usage_pct==source.year.map(highest)),'date_type'] = f'highest_point_in_{month_name}'\n",
    "\n",
    "\n",
    "domain = source.date_type.unique()\n",
    "range_ = ['skyblue','red','orange']\n",
    "    \n",
    "chart = alt.Chart(source).mark_point().encode(\n",
    "    x='year:N',\n",
    "    y=alt.Y(\n",
    "        'usage_pct:Q',\n",
    "         scale=alt.Scale(domain=(60, 100))\n",
    "    ),\n",
    "    #color='date_type:N'\n",
    "    color =alt.Color('date_type:N', scale=alt.Scale(domain=domain, range=range_))\n",
    ").configure_axis(\n",
    "    grid=False\n",
    ").properties(\n",
    "    title='maximum usage_pct during each day in June-July'\n",
    ")\n",
    "\n",
    "chart.configure_title(\n",
    "    fontSize=20,\n",
    "    font='Courier',\n",
    "    anchor='start',\n",
    "    color='gray'\n",
    ")"
   ]
  },
  {
   "cell_type": "code",
   "execution_count": null,
   "id": "201496a4",
   "metadata": {},
   "outputs": [],
   "source": [
    "source = usage_df.resample('D', on='entryfor').usage_pct.max().rename_axis('date').reset_index()\n",
    "source['month'] = source['date'].dt.strftime('%Y/%m')\n",
    "source = source[source.date.dt.month.isin([6])]\n",
    "\n",
    "alt.Chart(source).mark_boxplot(extent='min-max').encode(\n",
    "    x='month:N',\n",
    "    y=alt.Y('usage_pct:Q', scale=alt.Scale(domain=(70,100)))\n",
    ").properties(\n",
    "    title='usage_pct in June'\n",
    ")"
   ]
  },
  {
   "cell_type": "code",
   "execution_count": null,
   "id": "e89913f5",
   "metadata": {},
   "outputs": [],
   "source": [
    "#10:00-18:00\n",
    "#data\n",
    "source = usage_daytime.resample('D',on='entryfor').usage_pct.max()\n",
    "source = source.rolling(7).mean().to_frame()\n",
    "source['date'] = source.index.map(lambda x: x.replace(year=2020))\n",
    "source['year'] = source.index.year.astype(str)\n",
    "source = source.dropna(how='any')\n",
    "source['last_30_days'] = source.index.map(lambda x: (date.today() - x.date()).days <31)"
   ]
  },
  {
   "cell_type": "code",
   "execution_count": null,
   "id": "bb6353c5",
   "metadata": {},
   "outputs": [],
   "source": [
    "#10:00-18:00\n",
    "#chart\n",
    "domain = source.year.unique()\n",
    "range_ = ['light gray']*(len(domain) -2) + ['pink','red']\n",
    "\n",
    "alt.Chart(source).mark_line().encode(\n",
    "    x='date',\n",
    "    y=alt.Y('usage_pct',scale=alt.Scale(domain=(67, 96))),\n",
    "    color=alt.Color('year',scale=alt.Scale(domain=domain, range=range_))\n",
    ").configure_axis(\n",
    "    grid=False\n",
    ").properties(\n",
    "    title='electricity usage / capacity (%) 10:00-18:00'\n",
    ")"
   ]
  },
  {
   "cell_type": "code",
   "execution_count": null,
   "id": "f13b5a81",
   "metadata": {},
   "outputs": [],
   "source": [
    "domain = source.year.unique()\n",
    "range_ = ['gray']*(len(domain) -1) + ['red']\n",
    "\n",
    "alt.Chart(source).mark_circle(opacity=0.4, size=6\n",
    "                             ).encode(\n",
    "    x='date',\n",
    "    y=alt.Y('usage_pct',scale=alt.Scale(domain=(67, 96))),\n",
    "    color=alt.Color('year',scale=alt.Scale(domain=domain, range=range_)),\n",
    ").configure_axis(\n",
    "    grid=False\n",
    ").properties(\n",
    "    title='electricity usage / capacity (%) 10:00-18:00'\n",
    ")"
   ]
  },
  {
   "cell_type": "code",
   "execution_count": null,
   "id": "d28fc890",
   "metadata": {},
   "outputs": [],
   "source": [
    "source = source[source.year!='2011']\n",
    "\n",
    "domain = source.last_30_days.unique()\n",
    "range_ = ['gray', 'red']\n",
    "\n",
    "alt.Chart(source).mark_circle(opacity=0.4, size=6\n",
    "                             ).encode(\n",
    "    x='date',\n",
    "    y=alt.Y('usage_pct',scale=alt.Scale(domain=(67, 96))),\n",
    "    color=alt.Color('last_30_days',scale=alt.Scale(domain=domain, range=range_)),\n",
    ").configure_axis(\n",
    "    grid=False\n",
    ").properties(\n",
    "    title='electricity usage / capacity (%) 10:00-18:00'\n",
    ")"
   ]
  },
  {
   "cell_type": "code",
   "execution_count": null,
   "id": "a00ab44f",
   "metadata": {},
   "outputs": [],
   "source": [
    "#10:00-18:00\n",
    "#data\n",
    "source = usage_bu.resample('D',on='entryfor').usage_pct.max()\n",
    "source = source.reindex(pd.date_range(date(2011,3,20),date.today(),freq='D')\n",
    "              ).bfill().rolling(7).mean().reindex(pd.date_range(date(2011,3,27),date.today(),freq='W')\n",
    "                                                 ).to_frame()\n",
    "source['date'] = source.index.map(lambda x: x.replace(year=2022))\n",
    "source['year'] = source.index.year.astype(str)\n",
    "\n",
    "#chart\n",
    "domain = source.year.unique()\n",
    "range_ =['#E8E9EB']*(len(domain) -2) + ['#ffbfbf','#b30000']\n",
    "\n",
    "chart = alt.Chart(source).mark_line().encode(\n",
    "    x='date:T',\n",
    "    y=alt.Y('usage_pct',scale=alt.Scale(domain=(67, 96))),\n",
    "    color=alt.Color('year',scale=alt.Scale(domain=domain, range=range_))\n",
    ").configure_axis(\n",
    "    grid=False\n",
    ").properties(\n",
    "    title='electricity usage (pct of capacity) : 10:00-18:00, business days'\n",
    ")\n",
    "chart"
   ]
  },
  {
   "cell_type": "code",
   "execution_count": null,
   "id": "8b26a984",
   "metadata": {},
   "outputs": [],
   "source": [
    "#chart.save('chart.png')\n",
    "#chart.save('chart.svg')"
   ]
  },
  {
   "cell_type": "code",
   "execution_count": null,
   "id": "88058eaf",
   "metadata": {},
   "outputs": [],
   "source": [
    "source = usage_df[['entryfor','usage','capacity','forecast_peak_usage']].sort_values(by='entryfor').dropna(how='any')\n",
    "source = source.resample('M',on='entryfor').max().reset_index(drop=True)\n",
    "source = source[source.entryfor.dt.month==6]\n",
    "source.entryfor = source.entryfor.dt.strftime('%Y/%m/%d')\n",
    "\n",
    "\n",
    "\n",
    "alt.Chart(source).transform_fold(\n",
    "    ['usage','capacity','forecast_peak_usage'],as_=['usage','volume']).mark_line().encode(\n",
    "    x='entryfor:T',\n",
    "    y=alt.Y('volume:Q',scale=alt.Scale(domain=(3000, 6500))),\n",
    "    color='usage:N'\n",
    ").properties(\n",
    "    title='usage in June'\n",
    ")"
   ]
  },
  {
   "cell_type": "code",
   "execution_count": null,
   "id": "318b634d",
   "metadata": {},
   "outputs": [],
   "source": [
    "source = usage_df[['entryfor','usage','capacity']].sort_values(by='entryfor').dropna(how='any')"
   ]
  },
  {
   "cell_type": "code",
   "execution_count": null,
   "id": "4fae5a5d",
   "metadata": {},
   "outputs": [],
   "source": [
    "source = usage_df[['entryfor','usage','capacity']].sort_values(by='entryfor').dropna(how='any')\n",
    "source = source.resample('D',on='entryfor')[['usage','capacity']].max()\\\n",
    "            .dropna(how='all').reset_index(drop=False)\n",
    "            #.rolling(7).mean().dropna(how='all').reset_index(drop=False)\n",
    "source = source[source.entryfor.dt.year==2022]\n",
    "source.entryfor = source.entryfor.dt.strftime('%Y/%m/%d')\n",
    "\n",
    "\n",
    "\n",
    "alt.Chart(source).transform_fold(\n",
    "    ['usage','capacity'],as_=['usage','volume']).mark_line().encode(\n",
    "    x='entryfor:T',\n",
    "    y=alt.Y('volume:Q',scale=alt.Scale(domain=(2500, 6500))),\n",
    "    color='usage:N'\n",
    ").properties(\n",
    "    title='usage in June'\n",
    ")"
   ]
  },
  {
   "cell_type": "code",
   "execution_count": null,
   "id": "230d5a62",
   "metadata": {},
   "outputs": [],
   "source": [
    "source = usage_df[['entryfor','usage','capacity']].sort_values(by='entryfor').dropna(how='any')\n",
    "source = source.resample('D',on='entryfor')[['usage','capacity']].max().rolling(5).mean().dropna(how='all').reset_index(drop=False)\n",
    "source = source[source.entryfor.dt.year==2022]\n",
    "source.entryfor = source.entryfor.dt.strftime('%Y/%m/%d')\n",
    "\n",
    "\n",
    "\n",
    "alt.Chart(source).transform_fold(\n",
    "    ['usage','capacity'],as_=['usage','volume']).mark_line().encode(\n",
    "    x='entryfor:T',\n",
    "    y=alt.Y('volume:Q',scale=alt.Scale(domain=(2800, 6000))),\n",
    "    color='usage:N'\n",
    ").properties(\n",
    "    title='usage in June'\n",
    ")"
   ]
  },
  {
   "cell_type": "code",
   "execution_count": null,
   "id": "158059d8",
   "metadata": {},
   "outputs": [],
   "source": [
    "#data\n",
    "source = usage_df.resample('M',on='entryfor').max()[['year','month','usage_pct']].reset_index(drop=True)\n",
    "source = source.pivot(index='month',columns='year', values='usage_pct')\n",
    "source.index = pd.to_datetime(source.index,format='%m').strftime('%B')\n",
    "source.columns =source.columns.astype(str)\n",
    "source = source.loc[:,'2013':]"
   ]
  },
  {
   "cell_type": "code",
   "execution_count": null,
   "id": "7a6e27ae",
   "metadata": {},
   "outputs": [],
   "source": [
    "hours=np.arange(10,19)\n",
    "year = 2021\n",
    "\n",
    "source = usage_df[usage_df.hour.isin(hours)].resample('D', on='entryfor').capacity_left.min()\n",
    "source = source.rolling(7).mean()\n",
    "\n",
    "source[source.index.year>year].plot()\n",
    "plt.title('minimum gap between capacity and usage 10:00AM - 6:00PM')"
   ]
  },
  {
   "cell_type": "code",
   "execution_count": null,
   "id": "b3e86e8a",
   "metadata": {},
   "outputs": [],
   "source": [
    "source = usage_df[usage_df.hour.isin(hours)].resample('D', on='entryfor').capacity_left.median()\n",
    "source = source.rolling(7).mean()\n",
    "\n",
    "source[source.index.year>year].plot()\n",
    "plt.title('median gap between capacity and usage 10:00AM - 6:00PM')\n",
    "plt.show()"
   ]
  },
  {
   "cell_type": "code",
   "execution_count": null,
   "id": "71a0039e",
   "metadata": {},
   "outputs": [],
   "source": []
  },
  {
   "cell_type": "code",
   "execution_count": null,
   "id": "63bcf4be",
   "metadata": {},
   "outputs": [],
   "source": []
  },
  {
   "cell_type": "code",
   "execution_count": null,
   "id": "9e4b4131",
   "metadata": {},
   "outputs": [],
   "source": []
  }
 ],
 "metadata": {
  "kernelspec": {
   "display_name": "venv310",
   "language": "python",
   "name": "venv310"
  },
  "language_info": {
   "codemirror_mode": {
    "name": "ipython",
    "version": 3
   },
   "file_extension": ".py",
   "mimetype": "text/x-python",
   "name": "python",
   "nbconvert_exporter": "python",
   "pygments_lexer": "ipython3",
   "version": "3.10.3"
  },
  "toc": {
   "base_numbering": 1,
   "nav_menu": {},
   "number_sections": true,
   "sideBar": true,
   "skip_h1_title": false,
   "title_cell": "Table of Contents",
   "title_sidebar": "Contents",
   "toc_cell": false,
   "toc_position": {},
   "toc_section_display": true,
   "toc_window_display": true
  }
 },
 "nbformat": 4,
 "nbformat_minor": 5
}
